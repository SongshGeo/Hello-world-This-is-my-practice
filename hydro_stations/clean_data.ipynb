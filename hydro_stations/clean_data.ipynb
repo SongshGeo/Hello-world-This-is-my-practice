{
 "metadata": {
  "language_info": {
   "codemirror_mode": {
    "name": "ipython",
    "version": 3
   },
   "file_extension": ".py",
   "mimetype": "text/x-python",
   "name": "python",
   "nbconvert_exporter": "python",
   "pygments_lexer": "ipython3",
   "version": "3.8.3-final"
  },
  "orig_nbformat": 2,
  "kernelspec": {
   "name": "python_defaultSpec_1600263097549",
   "display_name": "Python 3.8.3 64-bit ('base': conda)"
  }
 },
 "nbformat": 4,
 "nbformat_minor": 2,
 "cells": [
  {
   "cell_type": "code",
   "execution_count": 2,
   "metadata": {},
   "outputs": [],
   "source": [
    "import pandas as pd\n",
    "import numpy as np"
   ]
  },
  {
   "source": [
    "## 从全国水文测站数据提取黄河水文站点\n",
    "\n",
    "全国水文数据：\n",
    "- Dataset Hydro_stations.csv, from Haiyan Zheng\n",
    "- Dataset stored in Datasets/China_cite/..\n",
    "- Dataset can be download by:\n",
    "- 链接：https://pan.baidu.com/s/1v4zLqC72rSaOgwqcE9RIcA \n",
    "- 提取码：z4x1 "
   ],
   "cell_type": "markdown",
   "metadata": {}
  },
  {
   "cell_type": "code",
   "execution_count": 35,
   "metadata": {},
   "outputs": [
    {
     "output_type": "execute_result",
     "data": {
      "text/plain": "  附表2-1-4省(自治区、直辖市)选用水文监测站 Unnamed: 1 Unnamed: 2 Unnamed: 3 Unnamed: 4  \\\n0                  测站(井)名称         代码         所在        NaN        NaN   \n1                      NaN        NaN     水资源三级区      地级行政区         河流   \n2                      NaN        NaN        NaN        NaN        NaN   \n3                   阿拉坦额莫勒   10207000      呼伦湖水系      呼伦贝尔市       克鲁伦河   \n4                     阿木古郎   10224000      呼伦湖水系      呼伦贝尔市       乌尔逊河   \n\n  Unnamed: 5   Unnamed: 6     Unnamed: 7 Unnamed: 8 Unnamed: 9 Unnamed: 10  \\\n0  集水面积(km2)       监测项目*1      地址(县、乡、村)       地理座标        NaN         NaN   \n1        NaN          NaN            NaN         东经        NaN         NaN   \n2        NaN          NaN            NaN          。          ′           ″   \n3        NaN  水位、径流、降水、泥沙  新巴尔虎右旗阿拉坦额莫勒镇        116         49         NaN   \n4        NaN           降水    新巴尔虎左旗阿木古郎镇        118         16         NaN   \n\n  Unnamed: 11 Unnamed: 12 Unnamed: 13 Unnamed: 14 Unnamed: 15 Unnamed: 16  \\\n0         NaN         NaN         NaN        主管机构        备注*2         NaN   \n1          北纬         NaN         NaN         NaN         NaN         NaN   \n2           。           ′           ″         NaN         NaN         NaN   \n3          48          38         NaN     内蒙古水文总局         NaN           A   \n4          48          13         NaN     内蒙古水文总局         NaN           A   \n\n  Unnamed: 17  \n0         NaN  \n1         NaN  \n2         NaN  \n3         NaN  \n4         NaN  ",
      "text/html": "<div>\n<style scoped>\n    .dataframe tbody tr th:only-of-type {\n        vertical-align: middle;\n    }\n\n    .dataframe tbody tr th {\n        vertical-align: top;\n    }\n\n    .dataframe thead th {\n        text-align: right;\n    }\n</style>\n<table border=\"1\" class=\"dataframe\">\n  <thead>\n    <tr style=\"text-align: right;\">\n      <th></th>\n      <th>附表2-1-4省(自治区、直辖市)选用水文监测站</th>\n      <th>Unnamed: 1</th>\n      <th>Unnamed: 2</th>\n      <th>Unnamed: 3</th>\n      <th>Unnamed: 4</th>\n      <th>Unnamed: 5</th>\n      <th>Unnamed: 6</th>\n      <th>Unnamed: 7</th>\n      <th>Unnamed: 8</th>\n      <th>Unnamed: 9</th>\n      <th>Unnamed: 10</th>\n      <th>Unnamed: 11</th>\n      <th>Unnamed: 12</th>\n      <th>Unnamed: 13</th>\n      <th>Unnamed: 14</th>\n      <th>Unnamed: 15</th>\n      <th>Unnamed: 16</th>\n      <th>Unnamed: 17</th>\n    </tr>\n  </thead>\n  <tbody>\n    <tr>\n      <th>0</th>\n      <td>测站(井)名称</td>\n      <td>代码</td>\n      <td>所在</td>\n      <td>NaN</td>\n      <td>NaN</td>\n      <td>集水面积(km2)</td>\n      <td>监测项目*1</td>\n      <td>地址(县、乡、村)</td>\n      <td>地理座标</td>\n      <td>NaN</td>\n      <td>NaN</td>\n      <td>NaN</td>\n      <td>NaN</td>\n      <td>NaN</td>\n      <td>主管机构</td>\n      <td>备注*2</td>\n      <td>NaN</td>\n      <td>NaN</td>\n    </tr>\n    <tr>\n      <th>1</th>\n      <td>NaN</td>\n      <td>NaN</td>\n      <td>水资源三级区</td>\n      <td>地级行政区</td>\n      <td>河流</td>\n      <td>NaN</td>\n      <td>NaN</td>\n      <td>NaN</td>\n      <td>东经</td>\n      <td>NaN</td>\n      <td>NaN</td>\n      <td>北纬</td>\n      <td>NaN</td>\n      <td>NaN</td>\n      <td>NaN</td>\n      <td>NaN</td>\n      <td>NaN</td>\n      <td>NaN</td>\n    </tr>\n    <tr>\n      <th>2</th>\n      <td>NaN</td>\n      <td>NaN</td>\n      <td>NaN</td>\n      <td>NaN</td>\n      <td>NaN</td>\n      <td>NaN</td>\n      <td>NaN</td>\n      <td>NaN</td>\n      <td>。</td>\n      <td>′</td>\n      <td>″</td>\n      <td>。</td>\n      <td>′</td>\n      <td>″</td>\n      <td>NaN</td>\n      <td>NaN</td>\n      <td>NaN</td>\n      <td>NaN</td>\n    </tr>\n    <tr>\n      <th>3</th>\n      <td>阿拉坦额莫勒</td>\n      <td>10207000</td>\n      <td>呼伦湖水系</td>\n      <td>呼伦贝尔市</td>\n      <td>克鲁伦河</td>\n      <td>NaN</td>\n      <td>水位、径流、降水、泥沙</td>\n      <td>新巴尔虎右旗阿拉坦额莫勒镇</td>\n      <td>116</td>\n      <td>49</td>\n      <td>NaN</td>\n      <td>48</td>\n      <td>38</td>\n      <td>NaN</td>\n      <td>内蒙古水文总局</td>\n      <td>NaN</td>\n      <td>A</td>\n      <td>NaN</td>\n    </tr>\n    <tr>\n      <th>4</th>\n      <td>阿木古郎</td>\n      <td>10224000</td>\n      <td>呼伦湖水系</td>\n      <td>呼伦贝尔市</td>\n      <td>乌尔逊河</td>\n      <td>NaN</td>\n      <td>降水</td>\n      <td>新巴尔虎左旗阿木古郎镇</td>\n      <td>118</td>\n      <td>16</td>\n      <td>NaN</td>\n      <td>48</td>\n      <td>13</td>\n      <td>NaN</td>\n      <td>内蒙古水文总局</td>\n      <td>NaN</td>\n      <td>A</td>\n      <td>NaN</td>\n    </tr>\n  </tbody>\n</table>\n</div>"
     },
     "metadata": {},
     "execution_count": 35
    }
   ],
   "source": [
    "# Dataset Hydro_stations.csv, from Haiyan Zheng\n",
    "# Dataset stored in Datasets/China_cite/..\n",
    "# Dataset can be download by:\n",
    "# 链接：https://pan.baidu.com/s/1v4zLqC72rSaOgwqcE9RIcA \n",
    "# 提取码：z4x1 \n",
    "data = pd.read_csv('hydro_stations.csv')\n",
    "data.head()"
   ]
  },
  {
   "source": [
    "导出后的黄河站点数据：\n",
    "\n",
    "- datasets/YR_cite_data/yr_hydro_stations\n",
    "- data can be download by:\n",
    "- 链接：https://pan.baidu.com/s/1aiunFD4c6Qsq-QQzV7OXzg \n",
    "- 提取码：32x9 "
   ],
   "cell_type": "markdown",
   "metadata": {}
  },
  {
   "cell_type": "code",
   "execution_count": 46,
   "metadata": {
    "tags": []
   },
   "outputs": [
    {
     "output_type": "stream",
     "name": "stdout",
     "text": "Unnamed: 0\nUnnamed: 1\n水资源三级区\n地级行政区\n河流\nUnnamed: 5\nUnnamed: 6\nUnnamed: 7\nUnnamed: 14\nUnnamed: 15\nUnnamed: 16\nUnnamed: 17\nlon\nlat\n"
    }
   ],
   "source": [
    "data = pd.read_csv('hydro_stations.csv', header=2)\n",
    "data = data[data['河流']=='黄河']\n",
    "\n",
    "for col in data.iloc[:, 8:14]:\n",
    "    data[col] = data[col].str.strip(r'\\t')\n",
    "    data[col] = pd.to_numeric(data[col], errors='coerce')\n",
    "\n",
    "data['lon'] = data.iloc[:,8] + data.iloc[:,9]/60\n",
    "data['lat'] = data.iloc[:,11] + data.iloc[:,12]/60\n",
    "\n",
    "for col in data.iloc[:, 8:14]:\n",
    "    del data[col]\n",
    "\n",
    "data.dropna(axis=1, inplace=True, how='all')\n",
    "data.columns = ['name', 'code', 'watershed', 'city', 'river', 'area', 'type', 'location', 'institution', 'note', 'note2', 'lon', 'lat']\n",
    "data\n",
    "data.to_csv('yr_hydro_stations.csv')"
   ]
  }
 ]
}