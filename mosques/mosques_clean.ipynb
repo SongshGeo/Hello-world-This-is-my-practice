{
 "metadata": {
  "language_info": {
   "codemirror_mode": {
    "name": "ipython",
    "version": 3
   },
   "file_extension": ".py",
   "mimetype": "text/x-python",
   "name": "python",
   "nbconvert_exporter": "python",
   "pygments_lexer": "ipython3",
   "version": "3.8.3-final"
  },
  "orig_nbformat": 2,
  "kernelspec": {
   "name": "python_defaultSpec_1600686863473",
   "display_name": "Python 3.8.3 64-bit ('base': conda)"
  }
 },
 "nbformat": 4,
 "nbformat_minor": 2,
 "cells": [
  {
   "cell_type": "code",
   "execution_count": 1,
   "metadata": {},
   "outputs": [],
   "source": [
    "import pandas as pd\n",
    "import numpy as np\n",
    "from matplotlib import pyplot as plt\n",
    "%matplotlib inline"
   ]
  },
  {
   "cell_type": "code",
   "execution_count": 2,
   "metadata": {},
   "outputs": [
    {
     "output_type": "execute_result",
     "data": {
      "text/plain": "array(['台湾府', '泉州府', '福州府', '邵武府', '厦门', '襄阳府', '汉阳府', '武昌府', '康熙安陆府',\n       '荆州府', '安陆府', '郧阳府', '宜昌府', '太原府', '大同府', '潞安府', '泽州府', '平阳府',\n       '广州府', '肇庆府', '琼州府', '杭州府', '宁波府', '温州府', '嘉兴府', '处州府', '衢州府',\n       '江宁府', '扬州府', '淮安府', '海州', '镇江府', '苏州府', '常州府', '松江府',\n       '三姓副都统（光绪八年1882设三姓厅，三十一年设依兰府', '阿勒楚喀副都统',\n       '阿勒楚喀副都统（光绪八年(1882)置双城厅，宣统元年(1909)升为双城府',\n       '三姓副都统富克锦城，光绪三十一年（1905年）后属临江府', '桦川县', '吉林副都统长春厅（光绪十四年升为长春府',\n       '吉林府', '新城府', '吉林将军属柳条边新边下九台',\n       '乾隆十二年(1747年)置吉林直隶厅，光绪七年(1881年)改吉林厅为府',\n       '乾隆十二年(1747年)置吉林直隶厅，光绪七年(1882年)改吉林厅为府',\n       '乾隆十二年(1747年)置吉林直隶厅，光绪七年(1883年)改吉林厅为府',\n       '乾隆十二年(1747年)置吉林直隶厅，光绪七年(1884年)改吉林厅为府',\n       '乾隆十二年(1747年)置吉林直隶厅，光绪七年(1885年)改吉林厅为府',\n       '乾隆十二年(1747年)置吉林直隶厅，光绪七年(1886年)改吉林厅为府',\n       '乾隆十二年(1747年)置吉林直隶厅，光绪七年(1887年)改吉林厅为府', '伊通州梨树县',\n       '宁古塔副都统，１９０９年改为珲春厅', '龙江府', '宁古塔副都统（后改绥芬厅、绥芬府', '齐齐哈尔副都统呼兰',\n       '呼兰厅（光绪三十一年设巴彦州）', '绥化厅（三十年光绪十二月 (1905.1) 升为绥化府', '瑷珲城', '呼兰府',\n       '光绪三十年设海伦厅，三十四年为海伦府', '安达厅', '昌图府', '海龙府', '兴京府', '辉南厅', '洮南府',\n       '奉天府', '法库厅', '凤凰厅', '锦州府', '新民屯，光绪二十八年后属新民府', '安庆府', '凤阳府', '和州',\n       '和州含山县', '六安州', '颍州府', '庐州府', '宁国府', '滁州', '滁州全椒县', '太平府', '泗州五河县',\n       '泗州盱眙县', '泗州', '滁州来安县', '池州府', '南宁府', '百色厅', '平乐府', '柳州府', '桂林府',\n       '前藏拉萨城', '前藏泽当', '后藏日喀则', '康部察木多？', '雅州府', '夔州府', '重庆府', '龙安府',\n       '保宁府', '宁远府', '成都府', '松潘厅', '绵州', '绥定府', '绵州梓潼县', '叙永厅', '潼川府',\n       '绵州安县', '叙州府', '嘉定府', '顺庆府', '懋功屯务厅', '河南府', '开封府', '南阳府', '许州襄城县',\n       '汝州鲁山县', '汝州伊阳县', '汝州', '汝州郏县', '汝宁府', '陈州府', '浃沟县？扶沟县？', '光州固始县',\n       '光州息县', '汝州宝丰县', '许州郾城县', '许州', '许州长葛县', '许州临颍县', '怀庆府', '卫辉府',\n       '彰德府', '归德府', '郑州（清开封府', '开封（清开封府', '洛阳（清河南府', '平顶山（清汝州、许州部分地区）',\n       '焦作（怀庆府', '新乡（卫辉府', '周口（陈州）', '南阳（南阳府', '驻马店（汝宁府', '合计', '郑州市',\n       '开封市', '洛阳市', '平顶山', '安阳市', '鹤壁市', '新乡市', '焦作市', '濮阳市', '许昌市',\n       '漯河市', '三门峡', '南阳市', '商丘市', '信阳市', '周口市', '驻马店', '济源市', '南昌府',\n       '九江府', '赣州府', '饶州府', '西宁府', '兰州府', '秦州', '巩昌府', '平凉府', '宁夏府', '肃州',\n       '甘州卫，清雍正二年(1724)改为甘州府', '化平厅', '甘州府', '阶州', '甘州张掖县', '天津府', '顺天府',\n       '正定府', '保定府', '遵化州丰润县', '遵化州', '永平府', '遵化州玉田县', '顺德府', '大名府',\n       '广平府', '定州', '易州', '易州涞水县', '口北三厅张家口厅', '宣化府', '口北三厅', '口北三厅独石口厅',\n       '承德府', '河间府'], dtype=object)"
     },
     "metadata": {},
     "execution_count": 2
    }
   ],
   "source": [
    "def clean_names_of_perfects(x):\n",
    "    # 是否带 “府” 字\n",
    "    if \"府\" in x: name = x.split(\"府\")[0] + \"府\"  # 如果带 “府” 字，去掉后面的冗余信息\n",
    "    else: name = x  # 如果不带府字，返回原来的名称\n",
    "    return name\n",
    "\n",
    "\n",
    "mosques = pd.read_csv(\"mosques.csv\")\n",
    "mosques = mosques['府州县名'].apply(clean_names_of_perfects)\n",
    "\n",
    "# 一共有多少个不重复的数据\n",
    "mosques_uniq = mosques.unique()\n",
    "mosques_uniq"
   ]
  },
  {
   "cell_type": "code",
   "execution_count": 3,
   "metadata": {},
   "outputs": [],
   "source": [
    "perfects = pd.read_csv('perfects.csv')\n",
    "perfects_uniq = perfects['NAME_CH'].unique()\n",
    "perfects_uniq\n",
    "pd.Series(perfects_uniq).to_csv(\"perfects_names.csv\")"
   ]
  },
  {
   "cell_type": "code",
   "execution_count": 4,
   "metadata": {
    "tags": []
   },
   "outputs": [
    {
     "output_type": "stream",
     "name": "stdout",
     "text": "未出现在数据里的府州县名字有96个\n"
    }
   ],
   "source": [
    "need_rectify_names = []\n",
    "for name in mosques_uniq:\n",
    "    if name not in perfects_uniq:\n",
    "        need_rectify_names.append(name)\n",
    "\n",
    "print(\"未出现在数据里的府州县名字有{}个\".format(len(need_rectify_names)))\n",
    "need_rectify_names\n",
    "pd.Series(need_rectify_names).to_csv(\"un_matched_names.csv\")"
   ]
  },
  {
   "cell_type": "code",
   "execution_count": null,
   "metadata": {},
   "outputs": [],
   "source": []
  }
 ]
}