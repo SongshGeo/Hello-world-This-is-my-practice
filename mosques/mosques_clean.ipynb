{
 "metadata": {
  "language_info": {
   "codemirror_mode": {
    "name": "ipython",
    "version": 3
   },
   "file_extension": ".py",
   "mimetype": "text/x-python",
   "name": "python",
   "nbconvert_exporter": "python",
   "pygments_lexer": "ipython3",
   "version": "3.8.3-final"
  },
  "orig_nbformat": 2,
  "kernelspec": {
   "name": "Python 3.8.3 64-bit ('base': conda)",
   "display_name": "Python 3.8.3 64-bit ('base': conda)",
   "metadata": {
    "interpreter": {
     "hash": "620de55db0451073e00a1f5fdf3dbe35b34b75005068a910b6d2a461f4bc901a"
    }
   }
  }
 },
 "nbformat": 4,
 "nbformat_minor": 2,
 "cells": [
  {
   "cell_type": "code",
   "execution_count": 1,
   "metadata": {},
   "outputs": [],
   "source": [
    "import pandas as pd\n",
    "import numpy as np\n",
    "from matplotlib import pyplot as plt\n",
    "%matplotlib inline"
   ]
  },
  {
   "cell_type": "code",
   "execution_count": 2,
   "metadata": {
    "tags": []
   },
   "outputs": [],
   "source": [
    "perfects = pd.read_csv('perfects.csv')\n",
    "perfects_uniq = perfects['NAME_CH'].unique()\n",
    "\n",
    "def generate_count_table(data, col):\n",
    "    \"\"\"检查输入的数据是否有问题\"\"\"\n",
    "    need_rectify_names = {}\n",
    "    name_count = {}\n",
    "    for name in data[col]:\n",
    "        if name not in perfects_uniq:\n",
    "            if name in need_rectify_names:\n",
    "                need_rectify_names[name] += 1\n",
    "            else:\n",
    "                need_rectify_names[name] = 1\n",
    "        else:\n",
    "            if name in name_count:\n",
    "                name_count[name] += 1\n",
    "            else:\n",
    "                name_count[name] = 1\n",
    "    if len(need_rectify_names) > 0:\n",
    "        print(\"未出现在数据里的府州县名字有{}个\".format(len(need_rectify_names)))\n",
    "        return need_rectify_names\n",
    "    else:\n",
    "        ser = pd.Series(name_count, name='mosques')\n",
    "        ser.index.name = \"NAME_CH\"\n",
    "        return ser"
   ]
  },
  {
   "cell_type": "code",
   "execution_count": 3,
   "metadata": {
    "tags": []
   },
   "outputs": [
    {
     "output_type": "execute_result",
     "data": {
      "text/plain": "NAME_CH\n襄阳府    2\n汉阳府    1\n武昌府    1\n安陆府    4\n荆州府    1\nName: mosques, dtype: int64"
     },
     "metadata": {},
     "execution_count": 3
    }
   ],
   "source": [
    "test = pd.read_excel('test_data.xlsx')\n",
    "count_table = generate_count_table(test, '府直隶州')\n",
    "count_table.to_csv('count_table.csv')\n",
    "count_table.head()"
   ]
  }
 ]
}