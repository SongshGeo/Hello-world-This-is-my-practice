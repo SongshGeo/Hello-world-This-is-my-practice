{
 "cells": [
  {
   "cell_type": "markdown",
   "metadata": {},
   "source": [
    "# Pokemon！"
   ]
  },
  {
   "cell_type": "markdown",
   "metadata": {},
   "source": [
    "# 对比不同神奇宝贝的体重"
   ]
  },
  {
   "cell_type": "markdown",
   "metadata": {},
   "source": [
    "## 利用API获取精灵实体"
   ]
  },
  {
   "cell_type": "code",
   "execution_count": null,
   "metadata": {},
   "outputs": [],
   "source": [
    "import pokebase as pb  # 神奇宝贝API\n",
    "from PIL import Image  # 展示神奇宝贝的图片"
   ]
  },
  {
   "cell_type": "code",
   "execution_count": 7,
   "metadata": {},
   "outputs": [
    {
     "data": {
      "image/png": "[encoded data removed]",
      "text/plain": [
       "<Figure size 432x288 with 1 Axes>"
      ]
     },
     "metadata": {
      "needs_background": "light"
     },
     "output_type": "display_data"
    }
   ],
   "source": [
    "def get_pokemon_by_name_and_plot(name, plot=True, ax=None):\n",
    "    pokemon = pb.APIResource('pokemon', name)  # 宝可梦\n",
    "    sprite = pb.SpriteResource('pokemon', pokemon.id)  # 精灵\n",
    "    if plot:  # 绘制宝可梦图片\n",
    "        if not ax:\n",
    "            _, ax = plt.subplots()\n",
    "        img = Image.open(sprite.path)  # 精灵的图片\n",
    "        ax.imshow(img)\n",
    "    return pokemon\n",
    "    \n",
    "    \n",
    "pikachu = get_pokemon_by_name_and_plot('piplup')"
   ]
  },
  {
   "cell_type": "markdown",
   "metadata": {},
   "source": [
    "## 华夫饼图"
   ]
  },
  {
   "cell_type": "code",
   "execution_count": 26,
   "metadata": {},
   "outputs": [
    {
     "data": {
      "image/png": "[encoded data removed]",
      "text/plain": [
       "<Figure size 720x432 with 1 Axes>"
      ]
     },
     "metadata": {},
     "output_type": "display_data"
    }
   ],
   "source": [
    "df = pd.DataFrame({\n",
    "    'country': ['Argentina', 'Brazil', 'Cuba', 'Peru'],\n",
    "    'number': [212, 334, 1500, 130] \n",
    "})\n",
    "\n",
    "total = sum(df['number'])  # 数值加总，总共有多少\n",
    "proportions = [(float(value) / total) for value in df['number']]  # 每个国家的比例\n",
    "\n",
    "\n",
    "def waffle_plot(proportions, width=40, height=10, ax=None):\n",
    "\n",
    "    # 华夫饼图的长和宽计算总共多少格子\n",
    "    total= width * height\n",
    "\n",
    "    # 根据长宽、每个实体的比例，计算每个实体分得的块数\n",
    "    tiles_per_category = [round(proportion * total) for proportion in proportions]\n",
    "\n",
    "    waffle = np.zeros((height, width))\n",
    "    category_index = 0\n",
    "    tile_index = 0\n",
    "    for col in range(width):\n",
    "        for row in range(height):\n",
    "            tile_index += 1\n",
    "            if tile_index > sum(tiles_per_category[0:category_index]):\n",
    "                category_index += 1\n",
    "            waffle[row, col] = category_index\n",
    "        \n",
    "    # 作图\n",
    "    if not ax:\n",
    "        fig, ax = plt.subplots()\n",
    "    colormap = plt.cm.coolwarm\n",
    "    ax.matshow(waffle, cmap=colormap)\n",
    "    ax2 = plt.gca()\n",
    "    ax.set_xticks(np.arange(-0.5, (width), 1), minor=True)\n",
    "    ax.set_yticks(np.arange(-0.5, (height), 1), minor=True)\n",
    "    ax.grid(which='minor', color='w', linestyle='-', linewidth=2)\n",
    "    ax.set_xticks([])\n",
    "    ax.set_yticks([])\n",
    "#     ax.colorbar()\n",
    "\n",
    "fig, ax = plt.subplots(figsize=(10, 6))\n",
    "waffle_plot(proportions, ax=ax)\n",
    "plt.show();"
   ]
  },
  {
   "cell_type": "markdown",
   "metadata": {},
   "source": [
    "## 对比体重"
   ]
  },
  {
   "cell_type": "markdown",
   "metadata": {},
   "source": [
    "对于精灵实体，都有哪些可以用的属性、方法"
   ]
  },
  {
   "cell_type": "code",
   "execution_count": 3,
   "metadata": {},
   "outputs": [
    {
     "data": {
      "text/plain": [
       "['_APIResource__force_lookup',\n",
       " '_APIResource__loaded',\n",
       " '__class__',\n",
       " '__delattr__',\n",
       " '__dict__',\n",
       " '__dir__',\n",
       " '__doc__',\n",
       " '__eq__',\n",
       " '__format__',\n",
       " '__ge__',\n",
       " '__getattr__',\n",
       " '__getattribute__',\n",
       " '__gt__',\n",
       " '__hash__',\n",
       " '__init__',\n",
       " '__init_subclass__',\n",
       " '__le__',\n",
       " '__lt__',\n",
       " '__module__',\n",
       " '__ne__',\n",
       " '__new__',\n",
       " '__reduce__',\n",
       " '__reduce_ex__',\n",
       " '__repr__',\n",
       " '__setattr__',\n",
       " '__sizeof__',\n",
       " '__str__',\n",
       " '__subclasshook__',\n",
       " '__weakref__',\n",
       " '_load',\n",
       " 'abilities',\n",
       " 'base_experience',\n",
       " 'endpoint',\n",
       " 'forms',\n",
       " 'game_indices',\n",
       " 'height',\n",
       " 'held_items',\n",
       " 'id',\n",
       " 'id_',\n",
       " 'is_default',\n",
       " 'location_area_encounters',\n",
       " 'moves',\n",
       " 'name',\n",
       " 'order',\n",
       " 'species',\n",
       " 'sprites',\n",
       " 'stats',\n",
       " 'types',\n",
       " 'url',\n",
       " 'weight']"
      ]
     },
     "execution_count": 3,
     "metadata": {},
     "output_type": "execute_result"
    }
   ],
   "source": [
    "dir(pikachu)"
   ]
  },
  {
   "cell_type": "code",
   "execution_count": 4,
   "metadata": {},
   "outputs": [
    {
     "data": {
      "text/plain": [
       "60"
      ]
     },
     "execution_count": 4,
     "metadata": {},
     "output_type": "execute_result"
    }
   ],
   "source": [
    "pikachu.weight"
   ]
  },
  {
   "cell_type": "code",
   "execution_count": 20,
   "metadata": {},
   "outputs": [],
   "source": [
    "compared_pokemon = ['squirtle', 'pikachu', 'bulbasaur', 'piplup']"
   ]
  },
  {
   "cell_type": "code",
   "execution_count": 24,
   "metadata": {},
   "outputs": [
    {
     "data": {
      "image/png": "[encoded data removed]",
      "text/plain": [
       "<Figure size 432x288 with 1 Axes>"
      ]
     },
     "metadata": {},
     "output_type": "display_data"
    }
   ],
   "source": [
    "pokemon_weights = []\n",
    "for pokemon in compared_pokemon:\n",
    "    pokemon = get_pokemon_by_name_and_plot(pokemon, plot=False)\n",
    "    pokemon_weights.append(pokemon.weight)\n",
    "    \n",
    "pokemon_weights = pd.Series(pokemon_weights, index=compared_pokemon)\n",
    "waffle_plot(pokemon_weights/pokemon_weights.sum())"
   ]
  },
  {
   "cell_type": "code",
   "execution_count": 27,
   "metadata": {},
   "outputs": [
    {
     "data": {
      "image/png": "[encoded data removed]",
      "text/plain": [
       "<Figure size 720x432 with 5 Axes>"
      ]
     },
     "metadata": {
      "needs_background": "light"
     },
     "output_type": "display_data"
    }
   ],
   "source": [
    "from matplotlib.gridspec import GridSpec\n",
    "\n",
    "fig = plt.figure(constrained_layout=True, figsize=(10, 6))\n",
    "gs = GridSpec(2, 4, figure=fig)\n",
    "\n",
    "ax1 = fig.add_subplot(gs[0, :])\n",
    "\n",
    "pokemon_weights = []\n",
    "for i, pokemon in enumerate(compared_pokemon):\n",
    "    ax = fig.add_subplot(gs[1, i])\n",
    "    pokemon = get_pokemon_by_name_and_plot(pokemon, ax=ax)\n",
    "    pokemon_weights.append(pokemon.weight)\n",
    "    \n",
    "pokemon_weights = pd.Series(pokemon_weights, index=compared_pokemon)\n",
    "waffle_plot(pokemon_weights/pokemon_weights.sum(), ax=ax1)"
   ]
  }
 ],
 "metadata": {
  "kernelspec": {
   "display_name": "Python 3",
   "language": "python",
   "name": "python3"
  },
  "language_info": {
   "codemirror_mode": {
    "name": "ipython",
    "version": 3
   },
   "file_extension": ".py",
   "mimetype": "text/x-python",
   "name": "python",
   "nbconvert_exporter": "python",
   "pygments_lexer": "ipython3",
   "version": "3.8.3"
  }
 },
 "nbformat": 4,
 "nbformat_minor": 4
}
